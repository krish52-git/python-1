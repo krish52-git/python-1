{
 "cells": [
  {
   "cell_type": "code",
   "execution_count": 1,
   "id": "d4f050b9-f848-473f-9b0c-4a89f8efdd71",
   "metadata": {},
   "outputs": [
    {
     "name": "stdout",
     "output_type": "stream",
     "text": [
      "HOPE AI\n"
     ]
    }
   ],
   "source": [
    "#print statement\n",
    "print(\"HOPE AI\")"
   ]
  },
  {
   "cell_type": "code",
   "execution_count": 2,
   "id": "3b9116aa-afc1-40f9-bc56-ce9ba661cd9d",
   "metadata": {},
   "outputs": [
    {
     "name": "stdin",
     "output_type": "stream",
     "text": [
      "Enter your institute name?  HOPE AI\n"
     ]
    },
    {
     "name": "stdout",
     "output_type": "stream",
     "text": [
      "HOPE AI\n"
     ]
    }
   ],
   "source": [
    "#Buy input\n",
    "institute_name = input(\"Enter your institute name? \")\n",
    "print(institute_name)"
   ]
  },
  {
   "cell_type": "code",
   "execution_count": 5,
   "id": "99187a52-999c-4f8b-aeef-55e0f6e9ad33",
   "metadata": {},
   "outputs": [
    {
     "name": "stdin",
     "output_type": "stream",
     "text": [
      "Enter your name:  Kaaviya\n",
      "Enter your age:  27\n",
      "Enter your school name:  UWL\n",
      "Enter your degree:  MSE\n"
     ]
    },
    {
     "name": "stdout",
     "output_type": "stream",
     "text": [
      "Name: Kaaviya\n",
      "Age: 27\n",
      "School: UWL\n",
      "Degree: MSE\n"
     ]
    }
   ],
   "source": [
    "#Buy inputs\n",
    "name = input(\"Enter your name: \")\n",
    "age = int(input(\"Enter your age: \"))\n",
    "school = input(\"Enter your school name: \")\n",
    "degree = input(\"Enter your degree: \")\n",
    "print(\"Name:\", name)\n",
    "print(\"Age:\", age)\n",
    "print(\"School:\", school)\n",
    "print(\"Degree:\", degree)"
   ]
  },
  {
   "cell_type": "code",
   "execution_count": 11,
   "id": "3aca354c-0bb9-4f8e-bd1d-c5fad54b1fd8",
   "metadata": {},
   "outputs": [
    {
     "name": "stdout",
     "output_type": "stream",
     "text": [
      "a =  43\n",
      "b =  34\n",
      "add =  77\n"
     ]
    }
   ],
   "source": [
    "#Addition\n",
    "a = 43\n",
    "b = 34\n",
    "print(\"a = \",a)\n",
    "print(\"b = \",b)\n",
    "print(\"add = \",a + b)"
   ]
  },
  {
   "cell_type": "code",
   "execution_count": 12,
   "id": "9502bd25-b0b4-4375-b468-1452628e4751",
   "metadata": {},
   "outputs": [
    {
     "name": "stdout",
     "output_type": "stream",
     "text": [
      "a =  43\n",
      "b =  34\n",
      "Sub =  9\n"
     ]
    }
   ],
   "source": [
    "#Subtraction\n",
    "a = 43\n",
    "b = 34\n",
    "print(\"a = \",a)\n",
    "print(\"b = \",b)\n",
    "print(\"Sub = \",a - b)"
   ]
  },
  {
   "cell_type": "code",
   "execution_count": 13,
   "id": "aa485c2b-82dc-455d-97bd-2c661e2213af",
   "metadata": {},
   "outputs": [
    {
     "name": "stdout",
     "output_type": "stream",
     "text": [
      "a =  63\n",
      "b =  97\n",
      "mul =  6111\n"
     ]
    }
   ],
   "source": [
    "#Multiplication\n",
    "a = 63\n",
    "b = 97\n",
    "print(\"a = \",a)\n",
    "print(\"b = \",b)\n",
    "print(\"mul = \",a * b)"
   ]
  },
  {
   "cell_type": "code",
   "execution_count": 14,
   "id": "9d9e855f-1469-4ad2-b008-c81d8ffbadc9",
   "metadata": {},
   "outputs": [
    {
     "name": "stdout",
     "output_type": "stream",
     "text": [
      "a =  76\n",
      "b =  31\n",
      "div =  2.4516129032258065\n"
     ]
    }
   ],
   "source": [
    "#Division\n",
    "a = 76\n",
    "b = 31\n",
    "print(\"a = \",a)\n",
    "print(\"b = \",b)\n",
    "print(\"div = \",a / b)"
   ]
  },
  {
   "cell_type": "code",
   "execution_count": 17,
   "id": "64758a16-e3e0-4792-ba4c-47f21bd5f763",
   "metadata": {},
   "outputs": [
    {
     "name": "stdout",
     "output_type": "stream",
     "text": [
      "a =  76\n",
      "b =  31\n",
      "Floor div =  2\n"
     ]
    }
   ],
   "source": [
    "#Floor Division\n",
    "a = 76\n",
    "b = 31\n",
    "print(\"a = \",a)\n",
    "print(\"b = \",b)\n",
    "print(\"Floor div = \",a // b)"
   ]
  },
  {
   "cell_type": "code",
   "execution_count": 18,
   "id": "0465dcaf-c4c7-4d4b-a713-e5fc962ef9a8",
   "metadata": {},
   "outputs": [
    {
     "name": "stdout",
     "output_type": "stream",
     "text": [
      "a =  76\n",
      "b =  31\n",
      "modulo =  14\n"
     ]
    }
   ],
   "source": [
    "#Modulo\n",
    "a = 76\n",
    "b = 31\n",
    "print(\"a = \",a)\n",
    "print(\"b = \",b)\n",
    "print(\"modulo = \",a % b)"
   ]
  },
  {
   "cell_type": "code",
   "execution_count": 20,
   "id": "a2d6a815-ac93-4f77-9b4d-c4f023f68218",
   "metadata": {},
   "outputs": [
    {
     "name": "stdout",
     "output_type": "stream",
     "text": [
      "a =  4\n",
      "b =  4\n",
      "power =  256\n"
     ]
    }
   ],
   "source": [
    "#Power\n",
    "a = 4\n",
    "b = 4\n",
    "print(\"a = \",a)\n",
    "print(\"b = \",b)\n",
    "print(\"power = \",a ** b)"
   ]
  }
 ],
 "metadata": {
  "kernelspec": {
   "display_name": "Python 3 (ipykernel)",
   "language": "python",
   "name": "python3"
  },
  "language_info": {
   "codemirror_mode": {
    "name": "ipython",
    "version": 3
   },
   "file_extension": ".py",
   "mimetype": "text/x-python",
   "name": "python",
   "nbconvert_exporter": "python",
   "pygments_lexer": "ipython3",
   "version": "3.13.5"
  }
 },
 "nbformat": 4,
 "nbformat_minor": 5
}
