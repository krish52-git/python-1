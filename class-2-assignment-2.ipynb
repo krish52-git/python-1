{
 "cells": [
  {
   "cell_type": "code",
   "execution_count": 2,
   "id": "dcd25530-dd92-4858-ae7b-67584529c06b",
   "metadata": {},
   "outputs": [],
   "source": [
    "from Assignment2Functions import Assignment2"
   ]
  },
  {
   "cell_type": "code",
   "execution_count": 3,
   "id": "c9765fda-c031-4a2e-b294-7b43eb12e314",
   "metadata": {},
   "outputs": [
    {
     "name": "stdin",
     "output_type": "stream",
     "text": [
      "Subject1 =  98\n",
      "Subject2 =  87\n",
      "Subject3 =  95\n",
      "Subject4 =  95\n",
      "Subject5 =  93\n"
     ]
    },
    {
     "name": "stdout",
     "output_type": "stream",
     "text": [
      "Total: 468\n",
      "Percentage : 93.60000000000001\n"
     ]
    }
   ],
   "source": [
    "Assignment2.percentage()"
   ]
  },
  {
   "cell_type": "code",
   "execution_count": 4,
   "id": "fab26dd1-36eb-40ef-a3f0-9facbac4bfa2",
   "metadata": {},
   "outputs": [
    {
     "name": "stdin",
     "output_type": "stream",
     "text": [
      "Enter the height: 32\n",
      "Enter the breadth: 34\n"
     ]
    },
    {
     "name": "stdout",
     "output_type": "stream",
     "text": [
      "Area formula: (Height * Breadth ) / 2\n",
      "Area formula: 544.0\n"
     ]
    },
    {
     "name": "stdin",
     "output_type": "stream",
     "text": [
      "Height1: 2\n",
      "Height2: 4\n",
      "Breadth: 4\n"
     ]
    },
    {
     "name": "stdout",
     "output_type": "stream",
     "text": [
      "Perimeter formula: Height1+Height2+Breadth\n",
      "Perimeter of Triangle: 10\n"
     ]
    }
   ],
   "source": [
    "Assignment2.triangle()"
   ]
  },
  {
   "cell_type": "code",
   "execution_count": 5,
   "id": "f9f4cf80-5970-4229-8460-9d9a8caecf54",
   "metadata": {},
   "outputs": [
    {
     "name": "stdin",
     "output_type": "stream",
     "text": [
      "Enter your Age 20\n"
     ]
    },
    {
     "name": "stdout",
     "output_type": "stream",
     "text": [
      "Not Eligible\n"
     ]
    }
   ],
   "source": [
    "Assignment2.Eligible()"
   ]
  },
  {
   "cell_type": "code",
   "execution_count": 6,
   "id": "5e48ca54-a215-49bc-8a02-fa6c2c5b6ed8",
   "metadata": {},
   "outputs": [
    {
     "name": "stdin",
     "output_type": "stream",
     "text": [
      "Enter the number: 52452\n"
     ]
    },
    {
     "name": "stdout",
     "output_type": "stream",
     "text": [
      "52452 is a Even number\n"
     ]
    }
   ],
   "source": [
    "Assignment2.oddoreven()"
   ]
  },
  {
   "cell_type": "code",
   "execution_count": null,
   "id": "0204b57d-b043-4676-a6d7-eb9b89906171",
   "metadata": {},
   "outputs": [],
   "source": [
    "Assignment2."
   ]
  }
 ],
 "metadata": {
  "kernelspec": {
   "display_name": "Python [conda env:base] *",
   "language": "python",
   "name": "conda-base-py"
  },
  "language_info": {
   "codemirror_mode": {
    "name": "ipython",
    "version": 3
   },
   "file_extension": ".py",
   "mimetype": "text/x-python",
   "name": "python",
   "nbconvert_exporter": "python",
   "pygments_lexer": "ipython3",
   "version": "3.13.5"
  }
 },
 "nbformat": 4,
 "nbformat_minor": 5
}
