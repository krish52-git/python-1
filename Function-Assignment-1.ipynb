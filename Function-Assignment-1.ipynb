{
 "cells": [
  {
   "cell_type": "code",
   "execution_count": 9,
   "id": "6601dc5a-c3ba-4427-8b09-26d269bb74da",
   "metadata": {},
   "outputs": [
    {
     "name": "stdout",
     "output_type": "stream",
     "text": [
      "Sub-fields in AI are:\n",
      "Machine Learning\n",
      "Neural Networks\n",
      "Vision\n",
      "Robotics\n",
      "Speech Processing\n",
      "Natural Language Processing\n"
     ]
    }
   ],
   "source": [
    "# Create a class and function, and list out the items in the list\n",
    "def subfields(field_list):\n",
    "    print(\"Sub-fields in AI are:\")\n",
    "    for field in field_list:\n",
    "        print(field)\n",
    "\n",
    "sub_fields = [\"Machine Learning\", \"Neural Networks\", \"Vision\", \"Robotics\", \"Speech Processing\", \"Natural Language Processing\"]\n",
    "subfields(sub_fields)"
   ]
  },
  {
   "cell_type": "code",
   "execution_count": null,
   "id": "72bd633b-be77-4066-8d1f-58f69e167c84",
   "metadata": {},
   "outputs": [],
   "source": []
  },
  {
   "cell_type": "code",
   "execution_count": 10,
   "id": "00f9935b-cd16-4b2e-a8ef-9392050d4830",
   "metadata": {},
   "outputs": [
    {
     "name": "stdout",
     "output_type": "stream",
     "text": [
      "Sub-fields in AI are:\n",
      "Machine Learning\n",
      "Neural Networks\n",
      "Vision\n",
      "Robotics\n",
      "Speech Processing\n",
      "Natural Language Processing\n"
     ]
    }
   ],
   "source": [
    "subfields(sub_fields)"
   ]
  },
  {
   "cell_type": "code",
   "execution_count": 3,
   "id": "a2919bb2-0cda-4dac-931c-ee2a3f18f169",
   "metadata": {},
   "outputs": [],
   "source": [
    "# Create a function that checks whether the given number is Odd or Even\n",
    "def oddoreven(num):\n",
    "    if num%2 ==0:\n",
    "        return \"even\"\n",
    "    else:\n",
    "        return \"odd\"\n",
    "        "
   ]
  },
  {
   "cell_type": "code",
   "execution_count": 5,
   "id": "abc3a16f-aab6-4bc5-85e7-35ea3b23c30c",
   "metadata": {},
   "outputs": [
    {
     "name": "stdin",
     "output_type": "stream",
     "text": [
      "Enter the number: 52452\n"
     ]
    },
    {
     "name": "stdout",
     "output_type": "stream",
     "text": [
      "52452is a evennumber\n"
     ]
    }
   ],
   "source": [
    "num= int(input(\"Enter the number:\"))\n",
    "result=oddoreven(num)\n",
    "print(f\"{num}is a {result}number\")"
   ]
  },
  {
   "cell_type": "code",
   "execution_count": 18,
   "id": "df8a1ab7-4182-4e24-98ed-e79d852d6199",
   "metadata": {},
   "outputs": [],
   "source": [
    "# Create a function that tells elegibility of marriage for male and female according to their age limit like 21 for male and 18 for women\n",
    "def eligibility(age,gender):\n",
    "    if (gender==\"male\" and age>=21):\n",
    "        return \"eligible\"\n",
    "    elif (gender==\"female\" and age>=18):\n",
    "        return \"eligible\"\n",
    "    else:\n",
    "        return \"Not Eligible\"\n",
    "        \n",
    "        "
   ]
  },
  {
   "cell_type": "code",
   "execution_count": 19,
   "id": "74d4a548-cebe-4f27-ac55-a75dd4fd991f",
   "metadata": {},
   "outputs": [
    {
     "name": "stdin",
     "output_type": "stream",
     "text": [
      "enter gender: male\n",
      "age: 20\n"
     ]
    },
    {
     "name": "stdout",
     "output_type": "stream",
     "text": [
      "Not Eligible\n"
     ]
    }
   ],
   "source": [
    "gender=input(\"enter gender:\")\n",
    "age=int(input(\"age:\"))\n",
    "print (eligibility(age,gender))\n"
   ]
  },
  {
   "cell_type": "code",
   "execution_count": 11,
   "id": "90c91a2b-7716-4508-9940-598c1849d119",
   "metadata": {},
   "outputs": [],
   "source": [
    "# calculate the percentage of your 10th mark\n",
    "def percentage(total, full_score):\n",
    "    percent = total/full_score * 100\n",
    "    return percent  "
   ]
  },
  {
   "cell_type": "code",
   "execution_count": 12,
   "id": "3722cb42-f9bf-42f6-a0ad-b7320cbe35cc",
   "metadata": {},
   "outputs": [
    {
     "name": "stdin",
     "output_type": "stream",
     "text": [
      "Subject1 =  98\n",
      "Subject2 =  87\n",
      "Subject3 =  95\n",
      "Subject4 =  95\n",
      "Subject5 =  93\n"
     ]
    },
    {
     "name": "stdout",
     "output_type": "stream",
     "text": [
      "Total =  468\n",
      "Percentage =  93.60000000000001\n"
     ]
    }
   ],
   "source": [
    "subject1 = int(input(\"Subject1 = \"))\n",
    "subject2 = int(input(\"Subject2 = \"))\n",
    "subject3 = int(input(\"Subject3 = \"))\n",
    "subject4 = int(input(\"Subject4 = \"))\n",
    "subject5 = int(input(\"Subject5 = \"))\n",
    "full_score = 500\n",
    "total = subject1 + subject2 + subject3 + subject4 + subject5\n",
    "print(\"Total = \", total)\n",
    "print(\"Percentage = \",percentage(total, full_score))"
   ]
  },
  {
   "cell_type": "code",
   "execution_count": 13,
   "id": "70224965-87ee-4302-b21a-ae247ea99ff7",
   "metadata": {},
   "outputs": [],
   "source": [
    "#print area and perimeter of triangle\n",
    "def triangle():\n",
    "    breadth = int(input(\"Breadth: \"))\n",
    "    height = int(input(\"Height: \"))\n",
    "    print(\"Area formula: (Breadth * Height) / 2\")\n",
    "    print(\"Area of Triangle: \", breadth * height / 2)\n",
    "    height1 = int(input(\"Height1: \"))\n",
    "    height2 = int(input(\"Height2: \"))\n",
    "    breadth = int(input(\"Breadth: \"))\n",
    "    print(\"Perimeter formula: Height1+Height2+Breadth\")\n",
    "    print(\"Perimeter of Triangle:\", height1 + height2 +breadth)"
   ]
  },
  {
   "cell_type": "code",
   "execution_count": 14,
   "id": "328aef64-8e16-4513-bc78-810ab874af4e",
   "metadata": {},
   "outputs": [
    {
     "name": "stdin",
     "output_type": "stream",
     "text": [
      "Breadth:  34\n",
      "Height:  32\n"
     ]
    },
    {
     "name": "stdout",
     "output_type": "stream",
     "text": [
      "Area formula: (Breadth * Height) / 2\n",
      "Area of Triangle:  544.0\n"
     ]
    },
    {
     "name": "stdin",
     "output_type": "stream",
     "text": [
      "Height1:  2\n",
      "Height2:  4\n",
      "Breadth:  4\n"
     ]
    },
    {
     "name": "stdout",
     "output_type": "stream",
     "text": [
      "Perimeter formula: Height1+Height2+Breadth\n",
      "Perimeter of Triangle: 10\n"
     ]
    }
   ],
   "source": [
    "triangle()"
   ]
  },
  {
   "cell_type": "code",
   "execution_count": null,
   "id": "e8870c22-f226-4d1d-803c-d3a67d3863c9",
   "metadata": {},
   "outputs": [],
   "source": []
  }
 ],
 "metadata": {
  "kernelspec": {
   "display_name": "Python [conda env:base] *",
   "language": "python",
   "name": "conda-base-py"
  },
  "language_info": {
   "codemirror_mode": {
    "name": "ipython",
    "version": 3
   },
   "file_extension": ".py",
   "mimetype": "text/x-python",
   "name": "python",
   "nbconvert_exporter": "python",
   "pygments_lexer": "ipython3",
   "version": "3.13.5"
  }
 },
 "nbformat": 4,
 "nbformat_minor": 5
}
