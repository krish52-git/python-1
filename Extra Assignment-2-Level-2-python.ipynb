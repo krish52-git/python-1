{
 "cells": [
  {
   "cell_type": "code",
   "execution_count": 3,
   "id": "ec294f64-9da8-4b0b-9114-e230e704fd0d",
   "metadata": {},
   "outputs": [
    {
     "name": "stdout",
     "output_type": "stream",
     "text": [
      "0\n",
      "1\n",
      "2\n",
      "3\n",
      "4\n",
      "5\n",
      "6\n",
      "7\n",
      "8\n",
      "9\n",
      "10\n",
      "11\n",
      "12\n",
      "13\n",
      "14\n",
      "15\n",
      "16\n",
      "17\n",
      "18\n",
      "19\n"
     ]
    }
   ],
   "source": [
    "# print 0 to 20 by using range\n",
    "\n",
    "for number in range(0, 20):\n",
    "    print(number)"
   ]
  },
  {
   "cell_type": "code",
   "execution_count": 6,
   "id": "08a369eb-c378-4761-b691-41a09299d7d6",
   "metadata": {},
   "outputs": [
    {
     "name": "stdout",
     "output_type": "stream",
     "text": [
      "10 11 12 13 14 15 16 17 18 19 "
     ]
    }
   ],
   "source": [
    "# print range 10 to 20  ## \"  extend for space \"\n",
    "\n",
    "for num in range (10,20):\n",
    "    print(num ,end=\" \")"
   ]
  },
  {
   "cell_type": "code",
   "execution_count": 5,
   "id": "0edc88f8-8c4b-4f25-b0f6-4561d61e4c69",
   "metadata": {},
   "outputs": [
    {
     "name": "stdout",
     "output_type": "stream",
     "text": [
      "[10, 20, 14, 55, 43, 87, 76] \n",
      "Number of item in the List2: \n",
      "7\n"
     ]
    }
   ],
   "source": [
    "# Print number of items in the list by using 'len'\n",
    "\n",
    "\n",
    "list2 = [10, 20, 14, 55, 43, 87, 76]\n",
    "print (f\"{list2} \\nNumber of item in the List2: \\n{len(list2)}\")\n"
   ]
  },
  {
   "cell_type": "code",
   "execution_count": 6,
   "id": "11816d1a-085c-4dab-a51c-5e9eea29a9df",
   "metadata": {},
   "outputs": [
    {
     "name": "stdout",
     "output_type": "stream",
     "text": [
      "A\n",
      "r\n",
      "t\n",
      "i\n",
      "f\n",
      "i\n",
      "c\n",
      "i\n",
      "a\n",
      "l\n",
      " \n",
      "I\n",
      "n\n",
      "t\n",
      "e\n",
      "l\n",
      "l\n",
      "i\n",
      "g\n",
      "e\n",
      "n\n",
      "c\n",
      "e\n"
     ]
    }
   ],
   "source": [
    "name = \"Artificial Intelligence\"\n",
    "  \n",
    "for sentence in name:\n",
    "    print (sentence)\n",
    "    \n",
    "    "
   ]
  },
  {
   "cell_type": "code",
   "execution_count": 3,
   "id": "e22eb3d1-2cdd-4e75-a985-62525adf753b",
   "metadata": {},
   "outputs": [
    {
     "name": "stdin",
     "output_type": "stream",
     "text": [
      "Enter your name krish\n",
      "Enter your age  22\n",
      "Enter your profession TL\n"
     ]
    },
    {
     "name": "stdout",
     "output_type": "stream",
     "text": [
      "yourname:krish\n",
      "your age:22\n",
      "your profession:TL\n"
     ]
    }
   ],
   "source": [
    "name= input(\"Enter your name\")\n",
    "age = input (\"Enter your age \")\n",
    "profession= input(\"Enter your profession\")\n",
    "\n",
    "print (f\"yourname:{name}\")\n",
    "print (f\"your age:{age}\")\n",
    "print (f\"your profession:{profession}\")\n"
   ]
  },
  {
   "cell_type": "code",
   "execution_count": 4,
   "id": "6de716e1-ddec-4146-86da-8badafaff58e",
   "metadata": {},
   "outputs": [
    {
     "name": "stdout",
     "output_type": "stream",
     "text": [
      "(1, 'Welcome', 2, 'HOPE')\n"
     ]
    }
   ],
   "source": [
    "# Print this mixered datatype using Tuples\n",
    "\n",
    "tup = (1, 'Welcome', 2, 'HOPE')\n",
    "print(tup)"
   ]
  },
  {
   "cell_type": "code",
   "execution_count": 8,
   "id": "2ca4111d-bec4-4d9c-a813-cf51531c09e3",
   "metadata": {},
   "outputs": [
    {
     "name": "stdout",
     "output_type": "stream",
     "text": [
      "((0, 1, 2, 3), ('python', 'HOPE'))\n"
     ]
    }
   ],
   "source": [
    "# Creating a Tuple with nested tuples\n",
    "tuple1=    (0,1,2,3)\n",
    "tuple2= ('python', 'HOPE')\n",
    "tuple3= (tuple1,tuple2)\n",
    "print(tuple3)\n",
    "\n"
   ]
  },
  {
   "cell_type": "code",
   "execution_count": 2,
   "id": "656653b5-c4bb-41ec-af85-c77732975e40",
   "metadata": {},
   "outputs": [
    {
     "name": "stdout",
     "output_type": "stream",
     "text": [
      "19 is odd.\n",
      "25 is odd.\n",
      "1 is odd.\n"
     ]
    }
   ],
   "source": [
    "\n",
    "# print Odd Numbers in the list\n",
    "numbers = [20,10,16,19,25,1,276,188]\n",
    "for item in numbers:\n",
    "    if(item % 2 != 0):\n",
    "        print(f\"{item} is odd.\")"
   ]
  },
  {
   "cell_type": "code",
   "execution_count": 4,
   "id": "db875ebc-0e9f-49e0-82a2-2a95d1582c0f",
   "metadata": {},
   "outputs": [
    {
     "name": "stdout",
     "output_type": "stream",
     "text": [
      "20 is even.\n",
      "10 is even.\n",
      "16 is even.\n",
      "276 is even.\n",
      "188 is even.\n"
     ]
    }
   ],
   "source": [
    " # print Even numbers in the list\n",
    "numbers = [20,10,16,19,25,1,276,188]\n",
    " for item in numbers:\n",
    "     if (item % 2 == 0):\n",
    "         print(f\"{item} is even.\")       "
   ]
  },
  {
   "cell_type": "code",
   "execution_count": null,
   "id": "0341ce35-99d5-4661-af92-c5d4cbf72ed5",
   "metadata": {},
   "outputs": [],
   "source": []
  }
 ],
 "metadata": {
  "kernelspec": {
   "display_name": "Python [conda env:base] *",
   "language": "python",
   "name": "conda-base-py"
  },
  "language_info": {
   "codemirror_mode": {
    "name": "ipython",
    "version": 3
   },
   "file_extension": ".py",
   "mimetype": "text/x-python",
   "name": "python",
   "nbconvert_exporter": "python",
   "pygments_lexer": "ipython3",
   "version": "3.13.5"
  }
 },
 "nbformat": 4,
 "nbformat_minor": 5
}
