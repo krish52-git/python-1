{
 "cells": [
  {
   "cell_type": "markdown",
   "id": "c1cf89ce-6e9b-4b72-8093-65e5d17e56cb",
   "metadata": {},
   "source": [
    "### Print statement"
   ]
  },
  {
   "cell_type": "code",
   "execution_count": 2,
   "id": "a885056f-acbd-4075-b57a-2c778778a5fe",
   "metadata": {},
   "outputs": [
    {
     "name": "stdout",
     "output_type": "stream",
     "text": [
      "Welcome to Assignment-1\n"
     ]
    }
   ],
   "source": [
    "print( \"Welcome to Assignment-1\")"
   ]
  },
  {
   "cell_type": "markdown",
   "id": "7b8cb7cd-3a72-4326-a4ca-940a9c9dfa51",
   "metadata": {},
   "source": [
    "### add /input statement"
   ]
  },
  {
   "cell_type": "code",
   "execution_count": null,
   "id": "828899fc-7c97-43c7-ae43-dc01d9e993a0",
   "metadata": {},
   "outputs": [],
   "source": [
    " Num1= 10\n",
    " Num2= 30\n",
    " Add= 40"
   ]
  },
  {
   "cell_type": "code",
   "execution_count": 4,
   "id": "14fde181-baf2-4877-9f7d-df8a83426301",
   "metadata": {},
   "outputs": [
    {
     "name": "stdout",
     "output_type": "stream",
     "text": [
      "num1: 10\n",
      "num2: 30\n",
      "Add: 40\n"
     ]
    }
   ],
   "source": [
    "number1 = 10\n",
    "number2 = 30\n",
    "print(\"num1:\", number1)\n",
    "print(\"num2:\",number2)\n",
    "\n",
    "result = number1 + number2\n",
    "\n",
    "print(\"Add:\",result)"
   ]
  },
  {
   "cell_type": "code",
   "execution_count": 1,
   "id": "a490a1ea-4a68-447a-bb69-cef76fc8fa26",
   "metadata": {},
   "outputs": [
    {
     "name": "stdin",
     "output_type": "stream",
     "text": [
      "enter the weight in kg : 15\n"
     ]
    }
   ],
   "source": [
    "# body mass index\n",
    "weight =float (input(\"enter the weight in kg :\"))"
   ]
  },
  {
   "cell_type": "code",
   "execution_count": 3,
   "id": "2665a36d-e132-4929-882a-5aa4c447e5d0",
   "metadata": {},
   "outputs": [
    {
     "name": "stdout",
     "output_type": "stream",
     "text": [
      "your underweight\n"
     ]
    }
   ],
   "source": [
    "#checking bmi category using if/else \n",
    "\n",
    "if weight<18.5:\n",
    "    print(\"your underweight\")\n",
    "elif weight>18.5 and weight<24.9:\n",
    "    print(\"you can be a n ormal weight\")\n",
    "elif weight>25 and weight<29.9:\n",
    "    print(\"your overweight\")\n",
    "elif weight >30.0 and weight<34.9:\n",
    "     print (\"obese class 1\")   \n",
    "elif weight>35.1 and weight<40.0:\n",
    "    print(\"obese class 2\")\n",
    "else:\n",
    "    print(\"obese class 3\")"
   ]
  },
  {
   "cell_type": "code",
   "execution_count": 1,
   "id": "429a9477-a755-4133-b379-79830b00d68c",
   "metadata": {},
   "outputs": [
    {
     "name": "stdin",
     "output_type": "stream",
     "text": [
      "enter the weight in kg : 19\n"
     ]
    }
   ],
   "source": [
    "weight =float (input(\"enter the weight in kg :\"))"
   ]
  },
  {
   "cell_type": "code",
   "execution_count": 2,
   "id": "33f7ad98-a8b0-4b71-8fd8-17f767a3f3b5",
   "metadata": {},
   "outputs": [
    {
     "name": "stdout",
     "output_type": "stream",
     "text": [
      "you can be a n ormal weight\n"
     ]
    }
   ],
   "source": [
    "if weight<18.5:\n",
    "    print(\"your underweight\")\n",
    "elif weight>18.5 and weight<24.9:\n",
    "    print(\"you can be a n ormal weight\")\n",
    "elif weight>25 and weight<29.9:\n",
    "    print(\"your overweight\")\n",
    "elif weight >30.0 and weight<34.9:\n",
    "     print (\"obese class 1\")   \n",
    "elif weight>35.1 and weight<40.0:\n",
    "    print(\"obese class 2\")\n",
    "else:\n",
    "    print(\"obese class 3\")"
   ]
  },
  {
   "cell_type": "code",
   "execution_count": 3,
   "id": "fcc68b7c-5a03-4065-8524-79445890dbd8",
   "metadata": {},
   "outputs": [
    {
     "name": "stdin",
     "output_type": "stream",
     "text": [
      "enter the weight in kg : 27\n"
     ]
    }
   ],
   "source": [
    "weight =float (input(\"enter the weight in kg :\"))"
   ]
  },
  {
   "cell_type": "code",
   "execution_count": 4,
   "id": "9e4d89af-ff2f-46ff-92e7-b4591cb1a33a",
   "metadata": {},
   "outputs": [
    {
     "name": "stdout",
     "output_type": "stream",
     "text": [
      "your overweight\n"
     ]
    }
   ],
   "source": [
    "if weight<18.5:\n",
    "    print(\"your underweight\")\n",
    "elif weight>18.5 and weight<24.9:\n",
    "    print(\"you can be a n ormal weight\")\n",
    "elif weight>25 and weight<29.9:\n",
    "    print(\"your overweight\")\n",
    "elif weight >30.0 and weight<34.9:\n",
    "     print (\"obese class 1\")   \n",
    "elif weight>35.1 and weight<40.0:\n",
    "    print(\"obese class 2\")\n",
    "else:\n",
    "    print(\"obese class 3\")"
   ]
  },
  {
   "cell_type": "code",
   "execution_count": 5,
   "id": "1c0f2810-1282-419e-8427-deebe54c9205",
   "metadata": {},
   "outputs": [
    {
     "name": "stdin",
     "output_type": "stream",
     "text": [
      "enter the weight in kg : 50\n"
     ]
    }
   ],
   "source": [
    "weight =float (input(\"enter the weight in kg :\"))"
   ]
  },
  {
   "cell_type": "code",
   "execution_count": 6,
   "id": "023a9fc2-4884-40a7-b5f6-ee7ecbec0bc1",
   "metadata": {},
   "outputs": [
    {
     "name": "stdout",
     "output_type": "stream",
     "text": [
      "obese class 3\n"
     ]
    }
   ],
   "source": [
    "if weight<18.5:\n",
    "    print(\"your underweight\")\n",
    "elif weight>18.5 and weight<24.9:\n",
    "    print(\"you can be a n ormal weight\")\n",
    "elif weight>25 and weight<29.9:\n",
    "    print(\"your overweight\")\n",
    "elif weight >30.0 and weight<34.9:\n",
    "     print (\"obese class 1\")   \n",
    "elif weight>35.1 and weight<40.0:\n",
    "    print(\"obese class 2\")\n",
    "else:\n",
    "    print(\"obese class 3\")"
   ]
  },
  {
   "cell_type": "markdown",
   "id": "7784876a-0e63-41f0-9cad-2f36b2d22a3b",
   "metadata": {},
   "source": [
    "### using forloop"
   ]
  },
  {
   "cell_type": "code",
   "execution_count": 1,
   "id": "84e020b3-707c-4244-9e96-3523a91fc204",
   "metadata": {},
   "outputs": [],
   "source": [
    "# for loop\n",
    "list_weight =[15,23.5,26,33,37,60]"
   ]
  },
  {
   "cell_type": "code",
   "execution_count": 2,
   "id": "a29a8473-eb05-470f-a60b-9a5985d5edf2",
   "metadata": {},
   "outputs": [
    {
     "name": "stdout",
     "output_type": "stream",
     "text": [
      "15\n",
      "23.5\n",
      "26\n",
      "33\n",
      "37\n",
      "60\n"
     ]
    }
   ],
   "source": [
    "for i in list_weight:\n",
    "    print(i)"
   ]
  },
  {
   "cell_type": "code",
   "execution_count": 8,
   "id": "c5f58956-1071-4e17-89cf-55956ff522a6",
   "metadata": {},
   "outputs": [
    {
     "name": "stdout",
     "output_type": "stream",
     "text": [
      "yoour underweight\n",
      "obese clss 3\n",
      "youur normal\n",
      "obese class 1\n",
      "obese cls 2\n",
      "obese clss 3\n"
     ]
    }
   ],
   "source": [
    "# using if/else/elif \n",
    "\n",
    "for weight in list_weight:\n",
    "    if weight <18.5:\n",
    "        print(\"yoour underweight\")\n",
    "    elif weight >25 and weight <29.9:\n",
    "        print(\"youur normal\")\n",
    "    elif weight >30 and weight <34.9:\n",
    "        print(\"obese class 1\")\n",
    "    elif weight >35 and weight <40:\n",
    "        print(\"obese cls 2\")\n",
    "    else :\n",
    "        print (\"obese clss 3\")"
   ]
  },
  {
   "cell_type": "code",
   "execution_count": null,
   "id": "b502c2e1-90a4-45b4-83aa-3621eb7445b1",
   "metadata": {},
   "outputs": [],
   "source": []
  }
 ],
 "metadata": {
  "kernelspec": {
   "display_name": "Python [conda env:base] *",
   "language": "python",
   "name": "conda-base-py"
  },
  "language_info": {
   "codemirror_mode": {
    "name": "ipython",
    "version": 3
   },
   "file_extension": ".py",
   "mimetype": "text/x-python",
   "name": "python",
   "nbconvert_exporter": "python",
   "pygments_lexer": "ipython3",
   "version": "3.13.5"
  }
 },
 "nbformat": 4,
 "nbformat_minor": 5
}
