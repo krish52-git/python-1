{
 "cells": [
  {
   "cell_type": "code",
   "execution_count": 1,
   "id": "839c8352-7b96-49d4-9561-2149d551275a",
   "metadata": {},
   "outputs": [
    {
     "name": "stdout",
     "output_type": "stream",
     "text": [
      "HOPE AI\n"
     ]
    }
   ],
   "source": [
    "#print statement\n",
    "\n",
    "print(\"HOPE AI\")"
   ]
  },
  {
   "cell_type": "code",
   "execution_count": 6,
   "id": "a798f2d7-8957-45a1-bf27-36f46d8de4e9",
   "metadata": {},
   "outputs": [
    {
     "name": "stdin",
     "output_type": "stream",
     "text": [
      "Enter your institute name?: HOPE AI\n"
     ]
    }
   ],
   "source": [
    "#BUY input\n",
    "\n",
    "institute_name = input(\"Enter your institute name?:\")\n"
   ]
  },
  {
   "cell_type": "code",
   "execution_count": 10,
   "id": "d49cecdf-5713-4251-bb08-50b5eab06147",
   "metadata": {},
   "outputs": [
    {
     "name": "stdin",
     "output_type": "stream",
     "text": [
      "Enter your name: Krishna kumar\n",
      "Enter your school name: Govt hs school \n",
      "Enter your age : 24\n",
      "Enter your degree: bcom\n"
     ]
    }
   ],
   "source": [
    "# Buy input\n",
    "\n",
    "name        = input(\"Enter your name:\")\n",
    "school_name =input(\"Enter your school name:\")\n",
    "age         = input(\"Enter your age :\")\n",
    "Degree      = input(\"Enter your degree:\")"
   ]
  },
  {
   "cell_type": "code",
   "execution_count": 13,
   "id": "bd3eb1fb-cd30-4b32-a678-cf67f2a719a1",
   "metadata": {},
   "outputs": [
    {
     "name": "stdout",
     "output_type": "stream",
     "text": [
      "a = 43\n",
      "b = 34\n",
      "add = 77\n"
     ]
    }
   ],
   "source": [
    "#addition\n",
    "\n",
    "a=43\n",
    "b=34\n",
    "print (\"a =\",a)\n",
    "print (\"b =\",b)\n",
    "print (\"add =\",a+b)"
   ]
  },
  {
   "cell_type": "code",
   "execution_count": 17,
   "id": "ea8507ef-8131-40dc-9c15-63a85c032569",
   "metadata": {},
   "outputs": [
    {
     "name": "stdout",
     "output_type": "stream",
     "text": [
      "a = 43\n",
      "b = 34\n",
      "sub = 9\n"
     ]
    }
   ],
   "source": [
    "#Subtraction\n",
    "\n",
    "a= 43\n",
    "b= 34\n",
    "print (\"a =\",a)\n",
    "print (\"b =\",b)\n",
    "print (\"sub =\",a-b)\n",
    "\n"
   ]
  },
  {
   "cell_type": "code",
   "execution_count": 18,
   "id": "80c608d9-adc9-48e8-a175-cca8d20e4a55",
   "metadata": {},
   "outputs": [
    {
     "name": "stdout",
     "output_type": "stream",
     "text": [
      "a = 63\n",
      "b = 97\n",
      "mul = 6111\n"
     ]
    }
   ],
   "source": [
    "# Multiplication\n",
    "\n",
    "a= 63\n",
    "b= 97\n",
    "print (\"a =\",a)\n",
    "print (\"b =\",b)\n",
    "print (\"mul =\",a*b)"
   ]
  },
  {
   "cell_type": "code",
   "execution_count": 20,
   "id": "15607150-8432-4d6b-a94b-bb1b8aa801db",
   "metadata": {},
   "outputs": [
    {
     "name": "stdout",
     "output_type": "stream",
     "text": [
      "a = 76\n",
      "b = 31\n",
      "div = 2.4516129032258065\n"
     ]
    }
   ],
   "source": [
    "#Division\n",
    "\n",
    "a= 76\n",
    "b= 31\n",
    "print (\"a =\",a)\n",
    "print (\"b =\",b)\n",
    "print (\"div =\",a/b)"
   ]
  },
  {
   "cell_type": "code",
   "execution_count": 22,
   "id": "05955aaa-8345-4093-ae71-c2793b555971",
   "metadata": {},
   "outputs": [
    {
     "name": "stdout",
     "output_type": "stream",
     "text": [
      "a = 76\n",
      "b = 31\n",
      "F div = 2\n"
     ]
    }
   ],
   "source": [
    "#Floor division\n",
    "a= 76\n",
    "b= 31\n",
    "print (\"a =\",a)\n",
    "print (\"b =\",b)\n",
    "print (\"F div =\",a//b)\n"
   ]
  },
  {
   "cell_type": "code",
   "execution_count": 23,
   "id": "bcbc5b14-5e72-400d-9963-f4dc8d195082",
   "metadata": {},
   "outputs": [
    {
     "name": "stdout",
     "output_type": "stream",
     "text": [
      "a = 76\n",
      "b = 31\n",
      "Modulo = 14\n"
     ]
    }
   ],
   "source": [
    "#Modulo\n",
    "\n",
    "a= 76\n",
    "b= 31\n",
    "print (\"a =\",a)\n",
    "print (\"b =\",b)\n",
    "print (\"Modulo =\",a%b)\n",
    "\n"
   ]
  },
  {
   "cell_type": "code",
   "execution_count": 25,
   "id": "3112db4d-d6ac-40b3-82ff-af740cd619fd",
   "metadata": {},
   "outputs": [
    {
     "name": "stdout",
     "output_type": "stream",
     "text": [
      "a = 4\n",
      "b = 4\n",
      "power = 256\n"
     ]
    }
   ],
   "source": [
    "#power\n",
    "\n",
    "a=4\n",
    "b=4\n",
    "print (\"a =\",a)\n",
    "print (\"b =\",b)\n",
    "print (\"power =\",a**b)\n"
   ]
  },
  {
   "cell_type": "code",
   "execution_count": null,
   "id": "26569aae-e5de-4d58-8daf-68cd9b5d4316",
   "metadata": {},
   "outputs": [],
   "source": []
  }
 ],
 "metadata": {
  "kernelspec": {
   "display_name": "Python [conda env:base] *",
   "language": "python",
   "name": "conda-base-py"
  },
  "language_info": {
   "codemirror_mode": {
    "name": "ipython",
    "version": 3
   },
   "file_extension": ".py",
   "mimetype": "text/x-python",
   "name": "python",
   "nbconvert_exporter": "python",
   "pygments_lexer": "ipython3",
   "version": "3.13.5"
  }
 },
 "nbformat": 4,
 "nbformat_minor": 5
}
