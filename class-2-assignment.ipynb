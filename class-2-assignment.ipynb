{
 "cells": [
  {
   "cell_type": "code",
   "execution_count": 1,
   "id": "ea6c331e-9547-4477-8521-c7bed0974b7e",
   "metadata": {},
   "outputs": [],
   "source": [
    "from Assignment2Functions import Assignment2"
   ]
  },
  {
   "cell_type": "code",
   "execution_count": 2,
   "id": "e6a5e258-8352-4791-ae7c-6a369ffb155f",
   "metadata": {},
   "outputs": [
    {
     "name": "stdout",
     "output_type": "stream",
     "text": [
      "SubfieldsInAI are:\n",
      "Machine Learning\n",
      "Neural Networks\n",
      "Vision\n",
      "Robotics\n",
      "Speech Processing\n",
      "Natural Language Processing\n"
     ]
    }
   ],
   "source": [
    "Assignment2.subfields()"
   ]
  },
  {
   "cell_type": "code",
   "execution_count": 3,
   "id": "0d6a3f05-1b9c-413c-b794-9192232e0f23",
   "metadata": {},
   "outputs": [
    {
     "name": "stdin",
     "output_type": "stream",
     "text": [
      "Enter the number: 52452\n"
     ]
    },
    {
     "name": "stdout",
     "output_type": "stream",
     "text": [
      "52452 is a Even number\n"
     ]
    }
   ],
   "source": [
    "Assignment2.oddoreven()"
   ]
  },
  {
   "cell_type": "code",
   "execution_count": 4,
   "id": "5df85c5c-481d-4857-bc18-474349aff166",
   "metadata": {},
   "outputs": [
    {
     "name": "stdin",
     "output_type": "stream",
     "text": [
      "Enter your Age 20\n"
     ]
    },
    {
     "name": "stdout",
     "output_type": "stream",
     "text": [
      "Not Eligible\n"
     ]
    }
   ],
   "source": [
    "Assignment2.Eligible()"
   ]
  },
  {
   "cell_type": "code",
   "execution_count": 5,
   "id": "7717e1da-d53b-4587-9cc4-d7242fc7b085",
   "metadata": {},
   "outputs": [
    {
     "name": "stdin",
     "output_type": "stream",
     "text": [
      "Enter the height: 32\n",
      "Enter the breadth: 34\n"
     ]
    },
    {
     "name": "stdout",
     "output_type": "stream",
     "text": [
      "Area formula: (Height * Breadth ) / 2\n",
      "Area formula: 544.0\n"
     ]
    },
    {
     "name": "stdin",
     "output_type": "stream",
     "text": [
      "Height1: 2\n",
      "Height2: 4\n",
      "Breadth: 4\n"
     ]
    },
    {
     "name": "stdout",
     "output_type": "stream",
     "text": [
      "Perimeter formula: Height1+Height2+Breadth\n",
      "Perimeter of Triangle: 10\n"
     ]
    }
   ],
   "source": [
    "Assignment2.triangle()"
   ]
  },
  {
   "cell_type": "code",
   "execution_count": null,
   "id": "fafec8cb-691f-4283-a226-34755adc7a78",
   "metadata": {},
   "outputs": [],
   "source": []
  }
 ],
 "metadata": {
  "kernelspec": {
   "display_name": "Python [conda env:base] *",
   "language": "python",
   "name": "conda-base-py"
  },
  "language_info": {
   "codemirror_mode": {
    "name": "ipython",
    "version": 3
   },
   "file_extension": ".py",
   "mimetype": "text/x-python",
   "name": "python",
   "nbconvert_exporter": "python",
   "pygments_lexer": "ipython3",
   "version": "3.13.5"
  }
 },
 "nbformat": 4,
 "nbformat_minor": 5
}
