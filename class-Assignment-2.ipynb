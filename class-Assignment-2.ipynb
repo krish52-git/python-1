{
 "cells": [
  {
   "cell_type": "code",
   "execution_count": 3,
   "id": "d34e0522-debf-4995-937c-b077e173ad24",
   "metadata": {},
   "outputs": [
    {
     "ename": "ModuleNotFoundError",
     "evalue": "No module named 'Assignment2Functions'",
     "output_type": "error",
     "traceback": [
      "\u001b[1;31m---------------------------------------------------------------------------\u001b[0m",
      "\u001b[1;31mModuleNotFoundError\u001b[0m                       Traceback (most recent call last)",
      "Cell \u001b[1;32mIn[3], line 1\u001b[0m\n\u001b[1;32m----> 1\u001b[0m \u001b[38;5;28;01mfrom\u001b[39;00m\u001b[38;5;250m \u001b[39m\u001b[38;5;21;01mAssignment2Functions\u001b[39;00m\u001b[38;5;250m \u001b[39m\u001b[38;5;28;01mimport\u001b[39;00m Assignment2\n",
      "\u001b[1;31mModuleNotFoundError\u001b[0m: No module named 'Assignment2Functions'"
     ]
    }
   ],
   "source": [
    "from Assignment2Functions import Assignment2"
   ]
  },
  {
   "cell_type": "code",
   "execution_count": null,
   "id": "bebd9a17-595f-4b22-9c42-6f4093ac4642",
   "metadata": {},
   "outputs": [],
   "source": []
  }
 ],
 "metadata": {
  "kernelspec": {
   "display_name": "Python [conda env:base] *",
   "language": "python",
   "name": "conda-base-py"
  },
  "language_info": {
   "codemirror_mode": {
    "name": "ipython",
    "version": 3
   },
   "file_extension": ".py",
   "mimetype": "text/x-python",
   "name": "python",
   "nbconvert_exporter": "python",
   "pygments_lexer": "ipython3",
   "version": "3.13.5"
  }
 },
 "nbformat": 4,
 "nbformat_minor": 5
}
