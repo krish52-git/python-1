{
 "cells": [
  {
   "cell_type": "code",
   "execution_count": 3,
   "id": "4a277975-eb36-43c0-9796-6e22ebc22121",
   "metadata": {},
   "outputs": [
    {
     "name": "stdin",
     "output_type": "stream",
     "text": [
      "Enter the value: 10\n"
     ]
    },
    {
     "name": "stdout",
     "output_type": "stream",
     "text": [
      "correct\n"
     ]
    }
   ],
   "source": [
    " # print 'CORRECT' if i == 10\n",
    "value = int (input(\"Enter the value:\"))\n",
    "if value == 10:\n",
    "    print(\"correct\")\n",
    "            "
   ]
  },
  {
   "cell_type": "code",
   "execution_count": 4,
   "id": "49160dad-49dc-4eec-b355-03cce40c9a18",
   "metadata": {},
   "outputs": [
    {
     "name": "stdin",
     "output_type": "stream",
     "text": [
      "Enter the password HOPE@123\n"
     ]
    },
    {
     "name": "stdout",
     "output_type": "stream",
     "text": [
      "Your password is correct\n"
     ]
    }
   ],
   "source": [
    " # Check the password, using if and else\n",
    "pwd = input (\"Enter the password\")\n",
    " if pwd  == \"HOPE@123\":\n",
    "     print (\"Your password is correct\")\n",
    "else:\n",
    "    print (\"Your password is wrong\")"
   ]
  },
  {
   "cell_type": "code",
   "execution_count": 5,
   "id": "87519d34-dcdd-4b27-9f2e-418174eaa925",
   "metadata": {},
   "outputs": [
    {
     "name": "stdin",
     "output_type": "stream",
     "text": [
      "enter the age: 25\n"
     ]
    },
    {
     "name": "stdout",
     "output_type": "stream",
     "text": [
      "adult\n"
     ]
    }
   ],
   "source": [
    "# Catagory the people by their age like children, adult, citizen, senior citizen...\n",
    "\n",
    "age = int (input(\"enter the age:\"))\n",
    "if age<18:\n",
    "    print(\"children\")\n",
    "elif age <30:\n",
    "    print (\"adult\")\n",
    "elif age <40:\n",
    "    print(\"citizen\")\n",
    "else:\n",
    "    print(\"senior citizen\")"
   ]
  },
  {
   "cell_type": "code",
   "execution_count": 7,
   "id": "52405883-1111-4054-843c-10ebfabee759",
   "metadata": {},
   "outputs": [
    {
     "name": "stdin",
     "output_type": "stream",
     "text": [
      "enter your number 2\n"
     ]
    },
    {
     "name": "stdout",
     "output_type": "stream",
     "text": [
      "no is positive\n"
     ]
    }
   ],
   "source": [
    "# Find whether given number is positive or negative\n",
    "\n",
    "number = int (input(\"enter your number\"))\n",
    "if number <0:\n",
    "    print (\"no is negetive\")\n",
    "else:\n",
    "    print (\"no is positive\")"
   ]
  },
  {
   "cell_type": "code",
   "execution_count": 8,
   "id": "19f4333c-bde4-4f32-be76-463fd1c97974",
   "metadata": {},
   "outputs": [
    {
     "name": "stdin",
     "output_type": "stream",
     "text": [
      "enter the number 26\n"
     ]
    },
    {
     "name": "stdout",
     "output_type": "stream",
     "text": [
      "No is not divisible by 5\n"
     ]
    }
   ],
   "source": [
    "# Check whether the given number is divisible by 5\n",
    "num =int(input(\"enter the number\"))\n",
    "\n",
    "if num % 5==0:\n",
    "    print(\"yeah its divisible by 5\")\n",
    "else:\n",
    "    print (\"No is not divisible by 5\")"
   ]
  },
  {
   "cell_type": "code",
   "execution_count": null,
   "id": "bc018ce0-71cb-441c-88bd-4bfef65daf9c",
   "metadata": {},
   "outputs": [],
   "source": []
  }
 ],
 "metadata": {
  "kernelspec": {
   "display_name": "Python [conda env:base] *",
   "language": "python",
   "name": "conda-base-py"
  },
  "language_info": {
   "codemirror_mode": {
    "name": "ipython",
    "version": 3
   },
   "file_extension": ".py",
   "mimetype": "text/x-python",
   "name": "python",
   "nbconvert_exporter": "python",
   "pygments_lexer": "ipython3",
   "version": "3.13.5"
  }
 },
 "nbformat": 4,
 "nbformat_minor": 5
}
