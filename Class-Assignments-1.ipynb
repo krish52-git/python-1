{
 "cells": [
  {
   "cell_type": "code",
   "execution_count": 6,
   "id": "2831b988-9a51-4572-be9e-07abe9679a5c",
   "metadata": {},
   "outputs": [],
   "source": [
    "# Create a class and function, and list out the items in the list\n",
    "class SubfieldsInAI():\n",
    "    def subfields():\n",
    "        sub_fields=[\"Machine Learning\",\"Neural Networks\",\"Vision\",\"Robotics\",\"Speech Processing\",\"Natural Language Processing\"]\n",
    "        print(\"SubfieldsInAI are:\")\n",
    "        for fields in sub_fields:\n",
    "            print(fields)"
   ]
  },
  {
   "cell_type": "code",
   "execution_count": 8,
   "id": "5ac628ab-6543-45eb-8c49-db445f1f57da",
   "metadata": {},
   "outputs": [
    {
     "name": "stdout",
     "output_type": "stream",
     "text": [
      "SubfieldsInAI are:\n",
      "Machine Learning\n",
      "Neural Networks\n",
      "Vision\n",
      "Robotics\n",
      "Speech Processing\n",
      "Natural Language Processing\n"
     ]
    }
   ],
   "source": [
    "SubfieldsInAI.subfields()"
   ]
  },
  {
   "cell_type": "code",
   "execution_count": 57,
   "id": "b2bf726a-5b28-4fbd-b8a2-61c9f027f179",
   "metadata": {},
   "outputs": [],
   "source": [
    "# Create a function that checks whether the given number is Odd or Even\n",
    "class OddEven():\n",
    "    def oddoreven():\n",
    "        num=int(input(\"Enter the number:\"))\n",
    "        if num%2 ==0:\n",
    "            print(f\"{num} is a Even number\")\n",
    "        else:\n",
    "            print(f\"{num} is a odd number\")"
   ]
  },
  {
   "cell_type": "code",
   "execution_count": 58,
   "id": "11e01a12-d9ee-4571-8b91-e12f7572c2ef",
   "metadata": {},
   "outputs": [
    {
     "name": "stdin",
     "output_type": "stream",
     "text": [
      "Enter the number: 20\n"
     ]
    },
    {
     "name": "stdout",
     "output_type": "stream",
     "text": [
      "20 is a Even number\n"
     ]
    }
   ],
   "source": [
    "OddEven.oddoreven()"
   ]
  },
  {
   "cell_type": "code",
   "execution_count": null,
   "id": "f678d3bd-e517-46eb-b18f-2c85ed94da0d",
   "metadata": {},
   "outputs": [],
   "source": [
    "# Create a function that tells elegibility of marriage for male and female according to their age limit like 21 for male and 18 for female"
   ]
  },
  {
   "cell_type": "code",
   "execution_count": 66,
   "id": "ff38c424-3da5-415c-83ed-19e9e038316e",
   "metadata": {},
   "outputs": [],
   "source": [
    "class ElegiblityForMarriage():\n",
    "    def Eligible():\n",
    "        gender=  (\"your gender:\")\n",
    "        age   =int(input(\"Enter your Age\"))\n",
    "        if gender == \"male\" and age >=21:\n",
    "            print(\"Eligible\")\n",
    "        elif gender == \"Female\" and age >=18:\n",
    "            print(\"Eligible\")\n",
    "        else:\n",
    "            print(\"Not Eligible\")"
   ]
  },
  {
   "cell_type": "code",
   "execution_count": 68,
   "id": "55d44d9a-1579-4399-9d5b-6dc108f308d4",
   "metadata": {},
   "outputs": [
    {
     "name": "stdin",
     "output_type": "stream",
     "text": [
      "Enter your Age 20\n"
     ]
    },
    {
     "name": "stdout",
     "output_type": "stream",
     "text": [
      "Not Eligible\n"
     ]
    }
   ],
   "source": [
    "ElegiblityForMarriage.Eligible()"
   ]
  },
  {
   "cell_type": "code",
   "execution_count": null,
   "id": "08c60f13-5a9f-441f-8a90-870e313406a3",
   "metadata": {},
   "outputs": [],
   "source": [
    "# calculate the percentage of your 10th mark"
   ]
  },
  {
   "cell_type": "code",
   "execution_count": 75,
   "id": "0001464e-7a79-4fc7-b922-c9b0d4018e31",
   "metadata": {},
   "outputs": [],
   "source": [
    "class FindPercent:\n",
    "    def percentage():\n",
    "        subject1 = int(input(\"Subject1 = \"))\n",
    "        subject2 = int(input(\"Subject2 = \"))\n",
    "        subject3 = int(input(\"Subject3 = \"))\n",
    "        subject4 = int(input(\"Subject4 = \"))\n",
    "        subject5 = int(input(\"Subject5 = \"))\n",
    "        fullscore = 500\n",
    "        total = subject1 + subject2 + subject3 + subject4 + subject5\n",
    "        print(\"Total:\",total)\n",
    "        percentage = total/fullscore*100\n",
    "        print(\"Percentage :\",percentage)"
   ]
  },
  {
   "cell_type": "code",
   "execution_count": 76,
   "id": "7f3cdcdb-fb1e-42a6-90f1-7438c8c0a91c",
   "metadata": {},
   "outputs": [
    {
     "name": "stdin",
     "output_type": "stream",
     "text": [
      "Subject1 =  98\n",
      "Subject2 =  87\n",
      "Subject3 =  95\n",
      "Subject4 =  95\n",
      "Subject5 =  93\n"
     ]
    },
    {
     "name": "stdout",
     "output_type": "stream",
     "text": [
      "Total: 468\n",
      "Percentage : 93.60000000000001\n"
     ]
    }
   ],
   "source": [
    "FindPercent.percentage()\n"
   ]
  },
  {
   "cell_type": "code",
   "execution_count": null,
   "id": "cd233b44-3d1e-48d9-b489-d550dbb23968",
   "metadata": {},
   "outputs": [],
   "source": [
    "#print area and perimeter of triangle using class and functions"
   ]
  },
  {
   "cell_type": "code",
   "execution_count": 85,
   "id": "4d6bfed2-a117-4f6b-b669-907d130763b1",
   "metadata": {},
   "outputs": [],
   "source": [
    "class triangle():\n",
    "    def triangle():\n",
    "        Height = int(input(\"Enter the height:\"))\n",
    "        Breadth= int(input(\"Enter the breadth:\"))\n",
    "        print(\"Area formula: (Height * Breadth ) / 2\")\n",
    "        print(\"Area formula:\",Height * Breadth / 2)\n",
    "        height1= int(input(\"Height1:\"))\n",
    "        height2= int(input(\"Height2:\"))\n",
    "        Breadth= int(input(\"Breadth:\"))\n",
    "        print(\"Perimeter formula: Height1+Height2+Breadth\")\n",
    "        print(\"Perimeter of Triangle:\",height1+height2+Breadth)      "
   ]
  },
  {
   "cell_type": "code",
   "execution_count": 86,
   "id": "41190c18-e7b9-4098-b252-393d24325bb8",
   "metadata": {},
   "outputs": [
    {
     "name": "stdin",
     "output_type": "stream",
     "text": [
      "Enter the height: 32\n",
      "Enter the breadth: 34\n"
     ]
    },
    {
     "name": "stdout",
     "output_type": "stream",
     "text": [
      "Area formula: (Height * Breadth ) / 2\n",
      "Area formula: 544.0\n"
     ]
    },
    {
     "name": "stdin",
     "output_type": "stream",
     "text": [
      "Height1: 2\n",
      "Height2: 4\n",
      "Breadth: 4\n"
     ]
    },
    {
     "name": "stdout",
     "output_type": "stream",
     "text": [
      "Perimeter formula: Height1+Height2+Breadth\n",
      "Perimeter of Triangle: 10\n"
     ]
    }
   ],
   "source": [
    "triangle.triangle()"
   ]
  },
  {
   "cell_type": "code",
   "execution_count": null,
   "id": "d561e55c-c6ad-41d3-badf-92643106b658",
   "metadata": {},
   "outputs": [],
   "source": []
  }
 ],
 "metadata": {
  "kernelspec": {
   "display_name": "Python [conda env:base] *",
   "language": "python",
   "name": "conda-base-py"
  },
  "language_info": {
   "codemirror_mode": {
    "name": "ipython",
    "version": 3
   },
   "file_extension": ".py",
   "mimetype": "text/x-python",
   "name": "python",
   "nbconvert_exporter": "python",
   "pygments_lexer": "ipython3",
   "version": "3.13.5"
  }
 },
 "nbformat": 4,
 "nbformat_minor": 5
}
