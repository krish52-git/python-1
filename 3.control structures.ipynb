{
 "cells": [
  {
   "cell_type": "code",
   "execution_count": 3,
   "id": "1b27d670-bec8-407d-9665-c01a531a9677",
   "metadata": {},
   "outputs": [
    {
     "name": "stdout",
     "output_type": "stream",
     "text": [
      "set()\n"
     ]
    }
   ],
   "source": [
    "data ={1,2,3}\n",
    "data_copy=data.copy()\n",
    "for i in data_copy:\n",
    "    data.remove(i)\n",
    "print(data)"
   ]
  },
  {
   "cell_type": "markdown",
   "id": "4e8775b0-fbb6-4b9a-b179-0f86d997a5b6",
   "metadata": {},
   "source": [
    "## if condition"
   ]
  },
  {
   "cell_type": "code",
   "execution_count": null,
   "id": "f903bf6d-0fea-4408-94e7-5ffa7646630a",
   "metadata": {},
   "outputs": [],
   "source": [
    "##if \n",
    "if ():\n",
    "    print()"
   ]
  },
  {
   "cell_type": "code",
   "execution_count": 4,
   "id": "dcb73fb4-9534-4b80-89e3-903785dd0033",
   "metadata": {},
   "outputs": [
    {
     "name": "stdin",
     "output_type": "stream",
     "text": [
      "Enter the Age:  18\n"
     ]
    }
   ],
   "source": [
    "age= int(input(\"Enter the Age: \"))\n"
   ]
  },
  {
   "cell_type": "code",
   "execution_count": 5,
   "id": "0e26b9bc-d80a-4291-9e78-d390076a5b5b",
   "metadata": {},
   "outputs": [
    {
     "name": "stdout",
     "output_type": "stream",
     "text": [
      "Adult\n"
     ]
    }
   ],
   "source": [
    "if age == 18:\n",
    "    print(\"Adult\")   "
   ]
  },
  {
   "cell_type": "markdown",
   "id": "222ae7cf-2f2c-4b01-a9a7-32a697016fdf",
   "metadata": {},
   "source": [
    "## if /else condition\n"
   ]
  },
  {
   "cell_type": "code",
   "execution_count": null,
   "id": "f5613464-0162-4690-abf0-07f23d30db84",
   "metadata": {},
   "outputs": [],
   "source": [
    "## if/else \n",
    "if():\n",
    "    print()\n",
    "else\n",
    "    print()"
   ]
  },
  {
   "cell_type": "code",
   "execution_count": 6,
   "id": "ae1b250f-ad60-4a93-84b0-27a07c7f619a",
   "metadata": {},
   "outputs": [
    {
     "name": "stdin",
     "output_type": "stream",
     "text": [
      "Enter the Age:  12\n"
     ]
    }
   ],
   "source": [
    "age= int(input(\"Enter the Age: \"))"
   ]
  },
  {
   "cell_type": "code",
   "execution_count": 7,
   "id": "68dcf165-8998-4ca1-a6d8-2da0000554a1",
   "metadata": {},
   "outputs": [
    {
     "name": "stdout",
     "output_type": "stream",
     "text": [
      "children\n"
     ]
    }
   ],
   "source": [
    "if (age<18):\n",
    "    print(\"children\")\n",
    "else:\n",
    "    print(\"Adult\")"
   ]
  },
  {
   "cell_type": "code",
   "execution_count": 8,
   "id": "39ba607b-640f-4383-9f50-9624fdd0f2fa",
   "metadata": {},
   "outputs": [
    {
     "name": "stdin",
     "output_type": "stream",
     "text": [
      "Enter the Age:  34\n"
     ]
    }
   ],
   "source": [
    "age= int(input(\"Enter the Age: \"))"
   ]
  },
  {
   "cell_type": "code",
   "execution_count": 9,
   "id": "e57ebd37-743e-4633-afa8-4f2fd4c7a8bf",
   "metadata": {},
   "outputs": [
    {
     "name": "stdout",
     "output_type": "stream",
     "text": [
      "Adult\n"
     ]
    }
   ],
   "source": [
    "if (age<18):\n",
    "    print(\"children\")\n",
    "else:\n",
    "    print(\"Adult\")"
   ]
  },
  {
   "cell_type": "markdown",
   "id": "343c2234-769c-49f6-999d-12dab2b19feb",
   "metadata": {},
   "source": [
    "### if/elif/else Conditions\n",
    "\n"
   ]
  },
  {
   "cell_type": "code",
   "execution_count": null,
   "id": "188c7ac7-aaff-4587-bcf3-fc53a6215739",
   "metadata": {},
   "outputs": [],
   "source": [
    "## if/elif/else\n",
    "if():\n",
    "    print()\n",
    "elif():\n",
    "    print()\n",
    "elif():\n",
    "    print()\n",
    "else():\n",
    "    print()"
   ]
  },
  {
   "cell_type": "markdown",
   "id": "ffdae01b-8580-4118-82ca-602d89b6b884",
   "metadata": {},
   "source": [
    "age<18-->Children\n",
    "age<36-->adult\n",
    "age<58-->citizen\n",
    "age>58-->senior citizen"
   ]
  },
  {
   "cell_type": "code",
   "execution_count": 1,
   "id": "4a6e7251-8d8c-4020-bd64-b86c806b2bd9",
   "metadata": {},
   "outputs": [
    {
     "name": "stdin",
     "output_type": "stream",
     "text": [
      "Enter the Age:  4\n"
     ]
    }
   ],
   "source": [
    "age= int(input(\"Enter the Age: \"))"
   ]
  },
  {
   "cell_type": "code",
   "execution_count": 2,
   "id": "53a4db1d-6155-415e-b91a-54f74085a05c",
   "metadata": {},
   "outputs": [
    {
     "name": "stdout",
     "output_type": "stream",
     "text": [
      "children\n"
     ]
    }
   ],
   "source": [
    "if(age<18):\n",
    "    print(\"children\")\n",
    "elif(age<36):\n",
    "    print(\"Adult\")\n",
    "elif(age<58):\n",
    "    print(\"Citizen\")\n",
    "else:\n",
    "    print(\"senior citizen\")\n",
    "    "
   ]
  },
  {
   "cell_type": "code",
   "execution_count": 3,
   "id": "129b71e2-2033-4c56-ac73-bdb5a07d1139",
   "metadata": {},
   "outputs": [
    {
     "name": "stdin",
     "output_type": "stream",
     "text": [
      "Enter the Age:  25\n"
     ]
    }
   ],
   "source": [
    "age= int(input(\"Enter the Age: \"))"
   ]
  },
  {
   "cell_type": "code",
   "execution_count": 4,
   "id": "74768f56-b06e-4f79-aee7-f608dc3420ce",
   "metadata": {},
   "outputs": [
    {
     "name": "stdout",
     "output_type": "stream",
     "text": [
      "Adult\n"
     ]
    }
   ],
   "source": [
    "if(age<18):\n",
    "    print(\"children\")\n",
    "elif(age<36):\n",
    "    print(\"Adult\")\n",
    "elif(age<58):\n",
    "    print(\"Citizen\")\n",
    "else:\n",
    "    print(\"senior citizen\")"
   ]
  },
  {
   "cell_type": "code",
   "execution_count": 5,
   "id": "51dfa463-1cf3-453f-b879-a09ddef0fdaa",
   "metadata": {},
   "outputs": [
    {
     "name": "stdin",
     "output_type": "stream",
     "text": [
      "Enter the Age:  40\n"
     ]
    }
   ],
   "source": [
    "age= int(input(\"Enter the Age: \"))"
   ]
  },
  {
   "cell_type": "code",
   "execution_count": 6,
   "id": "f36f014b-a4f3-4820-b65a-26d82ce31dac",
   "metadata": {},
   "outputs": [
    {
     "name": "stdout",
     "output_type": "stream",
     "text": [
      "Citizen\n"
     ]
    }
   ],
   "source": [
    "if(age<18):\n",
    "    print(\"children\")\n",
    "elif(age<36):\n",
    "    print(\"Adult\")\n",
    "elif(age<58):\n",
    "    print(\"Citizen\")\n",
    "else:\n",
    "    print(\"senior citizen\")"
   ]
  },
  {
   "cell_type": "code",
   "execution_count": 7,
   "id": "6f86ff69-979b-42af-beb8-bc8677ec20d9",
   "metadata": {},
   "outputs": [
    {
     "name": "stdin",
     "output_type": "stream",
     "text": [
      "Enter the Age:  60\n"
     ]
    }
   ],
   "source": [
    "age= int(input(\"Enter the Age: \"))"
   ]
  },
  {
   "cell_type": "code",
   "execution_count": 8,
   "id": "aed1e0d6-3297-40ae-a301-9a549a879bcc",
   "metadata": {},
   "outputs": [
    {
     "name": "stdout",
     "output_type": "stream",
     "text": [
      "senior citizen\n"
     ]
    }
   ],
   "source": [
    "if(age<18):\n",
    "    print(\"children\")\n",
    "elif(age<36):\n",
    "    print(\"Adult\")\n",
    "elif(age<58):\n",
    "    print(\"Citizen\")\n",
    "else:\n",
    "    print(\"senior citizen\")"
   ]
  },
  {
   "cell_type": "markdown",
   "id": "e11aa05d-c500-49c0-9c7d-102db2c46da4",
   "metadata": {},
   "source": [
    "### FOR LOOPS"
   ]
  },
  {
   "cell_type": "code",
   "execution_count": null,
   "id": "0e158332-06fa-48ff-9091-97d54ba3d20f",
   "metadata": {},
   "outputs": [],
   "source": [
    "##for loop\n",
    "    for i in ():\n",
    "        print()"
   ]
  },
  {
   "cell_type": "code",
   "execution_count": 4,
   "id": "fcc64f6f-42fc-4ebf-88ca-c92ac8716ae7",
   "metadata": {},
   "outputs": [],
   "source": [
    "lists=[10,45,63,89]"
   ]
  },
  {
   "cell_type": "code",
   "execution_count": 4,
   "id": "1bab02aa-c794-4a21-8461-9950e26e801d",
   "metadata": {},
   "outputs": [
    {
     "name": "stdout",
     "output_type": "stream",
     "text": [
      "10\n",
      "45\n",
      "63\n",
      "89\n"
     ]
    }
   ],
   "source": [
    "for temp in lists:\n",
    "    print(temp)"
   ]
  },
  {
   "cell_type": "code",
   "execution_count": 5,
   "id": "5e6a9858-4990-4b24-95ad-141dc09aee6a",
   "metadata": {},
   "outputs": [
    {
     "name": "stdout",
     "output_type": "stream",
     "text": [
      "children\n",
      "Citizen\n",
      "senior citizen\n",
      "senior citizen\n"
     ]
    }
   ],
   "source": [
    "for age in lists:\n",
    "    if(age<18):\n",
    "        print(\"children\")\n",
    "    elif(age<36):\n",
    "        print(\"Adult\")\n",
    "    elif(age<58):\n",
    "        print(\"Citizen\")\n",
    "    else:\n",
    "        print(\"senior citizen\")\n"
   ]
  },
  {
   "cell_type": "code",
   "execution_count": null,
   "id": "ec119887-84d7-44c2-b836-1a276919a8fc",
   "metadata": {},
   "outputs": [],
   "source": []
  }
 ],
 "metadata": {
  "kernelspec": {
   "display_name": "Python [conda env:base] *",
   "language": "python",
   "name": "conda-base-py"
  },
  "language_info": {
   "codemirror_mode": {
    "name": "ipython",
    "version": 3
   },
   "file_extension": ".py",
   "mimetype": "text/x-python",
   "name": "python",
   "nbconvert_exporter": "python",
   "pygments_lexer": "ipython3",
   "version": "3.13.5"
  }
 },
 "nbformat": 4,
 "nbformat_minor": 5
}
