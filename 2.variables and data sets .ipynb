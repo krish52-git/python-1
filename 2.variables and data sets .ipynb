{
 "cells": [
  {
   "cell_type": "markdown",
   "id": "8016b881-c3bb-47d4-856d-656d29135b5f",
   "metadata": {},
   "source": [
    "### 1 .line by  line excution\n"
   ]
  },
  {
   "cell_type": "code",
   "execution_count": 7,
   "id": "f3aa398a-b2a1-48f7-9744-2ee91c07c2ec",
   "metadata": {},
   "outputs": [
    {
     "name": "stdout",
     "output_type": "stream",
     "text": [
      "the addition of two numbers\n",
      "the number 1: 10\n",
      "the number 2: 20\n",
      "The Answer: 30\n",
      "The Answer : 30\n"
     ]
    }
   ],
   "source": [
    "print(\"the addition of two numbers\")\n",
    "num1=10\n",
    "num2=20\n",
    "print(\"the number 1:\",num1)\n",
    "print(\"the number 2:\",num2)\n",
    "add=num1+num2\n",
    "print(\"The Answer:\",add)\n",
    "## second method \n",
    "print(\"The Answer :\",num1+num2)"
   ]
  },
  {
   "cell_type": "markdown",
   "id": "17f70a5e-8523-4443-a831-1c20d3a8530c",
   "metadata": {},
   "source": [
    "## 2. int include the input statements \n"
   ]
  },
  {
   "cell_type": "code",
   "execution_count": 8,
   "id": "ae57622c-22b6-4c4d-87e9-565f575e37ae",
   "metadata": {},
   "outputs": [
    {
     "name": "stdin",
     "output_type": "stream",
     "text": [
      "enter the num1: 20\n"
     ]
    }
   ],
   "source": [
    "## add int \n",
    "num1= int(input(\"enter the num1:\"))"
   ]
  },
  {
   "cell_type": "code",
   "execution_count": 9,
   "id": "4fb6abd2-86c6-4c2b-acb3-ac8bc52855e9",
   "metadata": {},
   "outputs": [
    {
     "name": "stdin",
     "output_type": "stream",
     "text": [
      "enter the num2: 10\n"
     ]
    }
   ],
   "source": [
    "num2=int(input(\"enter the num2:\"))"
   ]
  },
  {
   "cell_type": "code",
   "execution_count": 10,
   "id": "fcd84c34-dab5-4562-8b02-97663e05f414",
   "metadata": {},
   "outputs": [
    {
     "name": "stdout",
     "output_type": "stream",
     "text": [
      "30\n"
     ]
    }
   ],
   "source": [
    "add=num1+num2\n",
    "print(add)"
   ]
  },
  {
   "cell_type": "code",
   "execution_count": null,
   "id": "73472605-5b62-439b-8fe3-8aadad74b0d1",
   "metadata": {},
   "outputs": [],
   "source": []
  }
 ],
 "metadata": {
  "kernelspec": {
   "display_name": "Python [conda env:base] *",
   "language": "python",
   "name": "conda-base-py"
  },
  "language_info": {
   "codemirror_mode": {
    "name": "ipython",
    "version": 3
   },
   "file_extension": ".py",
   "mimetype": "text/x-python",
   "name": "python",
   "nbconvert_exporter": "python",
   "pygments_lexer": "ipython3",
   "version": "3.13.5"
  }
 },
 "nbformat": 4,
 "nbformat_minor": 5
}
